{
 "cells": [
  {
   "cell_type": "markdown",
   "metadata": {
    "id": "d2kLrOh-bpGy"
   },
   "source": [
    "# Iris Flower - Feature Pipeline\n",
    "\n",
    "In this notebook we will, \n",
    "\n",
    "1. Run in either \"Backfill\" or \"Normal\" operation. \n",
    "2. IF *BACKFILL==True*, we will load our DataFrame with data from the iris.csv file \n",
    "\n",
    "   ELSE *BACKFILL==False*, we will load our DataFrame with one synthetic Iris Flower sample \n",
    "3. Write our DataFrame to a Feature Group"
   ]
  },
  {
   "cell_type": "code",
   "execution_count": 2,
   "metadata": {},
   "outputs": [
    {
     "name": "stdout",
     "output_type": "stream",
     "text": [
      "Requirement already satisfied: hopsworks in /Users/kyu/Projects/serverless-ml-course/venv/lib/python3.11/site-packages (4.1.5)\n",
      "Requirement already satisfied: pyhumps==1.6.1 in /Users/kyu/Projects/serverless-ml-course/venv/lib/python3.11/site-packages (from hopsworks) (1.6.1)\n",
      "Requirement already satisfied: requests in /Users/kyu/Projects/serverless-ml-course/venv/lib/python3.11/site-packages (from hopsworks) (2.32.3)\n",
      "Requirement already satisfied: furl in /Users/kyu/Projects/serverless-ml-course/venv/lib/python3.11/site-packages (from hopsworks) (2.1.3)\n",
      "Requirement already satisfied: boto3 in /Users/kyu/Projects/serverless-ml-course/venv/lib/python3.11/site-packages (from hopsworks) (1.36.10)\n",
      "Requirement already satisfied: pandas<2.2.0 in /Users/kyu/Projects/serverless-ml-course/venv/lib/python3.11/site-packages (from hopsworks) (2.1.4)\n",
      "Requirement already satisfied: pyjks in /Users/kyu/Projects/serverless-ml-course/venv/lib/python3.11/site-packages (from hopsworks) (20.0.0)\n",
      "Requirement already satisfied: mock in /Users/kyu/Projects/serverless-ml-course/venv/lib/python3.11/site-packages (from hopsworks) (5.1.0)\n",
      "Requirement already satisfied: avro==1.11.3 in /Users/kyu/Projects/serverless-ml-course/venv/lib/python3.11/site-packages (from hopsworks) (1.11.3)\n",
      "Requirement already satisfied: sqlalchemy in /Users/kyu/Projects/serverless-ml-course/venv/lib/python3.11/site-packages (from hopsworks) (2.0.29)\n",
      "Requirement already satisfied: PyMySQL[rsa] in /Users/kyu/Projects/serverless-ml-course/venv/lib/python3.11/site-packages (from hopsworks) (1.1.1)\n",
      "Requirement already satisfied: tzlocal in /Users/kyu/Projects/serverless-ml-course/venv/lib/python3.11/site-packages (from hopsworks) (5.2)\n",
      "Requirement already satisfied: fsspec in /Users/kyu/Projects/serverless-ml-course/venv/lib/python3.11/site-packages (from hopsworks) (2024.12.0)\n",
      "Requirement already satisfied: retrying in /Users/kyu/Projects/serverless-ml-course/venv/lib/python3.11/site-packages (from hopsworks) (1.3.4)\n",
      "Requirement already satisfied: hopsworks_aiomysql==0.2.1 in /Users/kyu/Projects/serverless-ml-course/venv/lib/python3.11/site-packages (from hopsworks_aiomysql[sa]==0.2.1->hopsworks) (0.2.1)\n",
      "Requirement already satisfied: opensearch-py<=2.4.2,>=1.1.0 in /Users/kyu/Projects/serverless-ml-course/venv/lib/python3.11/site-packages (from hopsworks) (2.4.2)\n",
      "Requirement already satisfied: tqdm in /Users/kyu/Projects/serverless-ml-course/venv/lib/python3.11/site-packages (from hopsworks) (4.67.1)\n",
      "Requirement already satisfied: grpcio<2.0.0,>=1.49.1 in /Users/kyu/Projects/serverless-ml-course/venv/lib/python3.11/site-packages (from hopsworks) (1.70.0)\n",
      "Requirement already satisfied: protobuf<5.0.0,>=4.25.4 in /Users/kyu/Projects/serverless-ml-course/venv/lib/python3.11/site-packages (from hopsworks) (4.25.6)\n",
      "Requirement already satisfied: urllib3>=1.26.18 in /Users/kyu/Projects/serverless-ml-course/venv/lib/python3.11/site-packages (from opensearch-py<=2.4.2,>=1.1.0->hopsworks) (2.3.0)\n",
      "Requirement already satisfied: six in /Users/kyu/Projects/serverless-ml-course/venv/lib/python3.11/site-packages (from opensearch-py<=2.4.2,>=1.1.0->hopsworks) (1.17.0)\n",
      "Requirement already satisfied: python-dateutil in /Users/kyu/Projects/serverless-ml-course/venv/lib/python3.11/site-packages (from opensearch-py<=2.4.2,>=1.1.0->hopsworks) (2.9.0.post0)\n",
      "Requirement already satisfied: certifi>=2022.12.07 in /Users/kyu/Projects/serverless-ml-course/venv/lib/python3.11/site-packages (from opensearch-py<=2.4.2,>=1.1.0->hopsworks) (2025.1.31)\n",
      "Requirement already satisfied: numpy<2,>=1.23.2 in /Users/kyu/Projects/serverless-ml-course/venv/lib/python3.11/site-packages (from pandas<2.2.0->hopsworks) (1.26.4)\n",
      "Requirement already satisfied: pytz>=2020.1 in /Users/kyu/Projects/serverless-ml-course/venv/lib/python3.11/site-packages (from pandas<2.2.0->hopsworks) (2025.1)\n",
      "Requirement already satisfied: tzdata>=2022.1 in /Users/kyu/Projects/serverless-ml-course/venv/lib/python3.11/site-packages (from pandas<2.2.0->hopsworks) (2025.1)\n",
      "Requirement already satisfied: charset-normalizer<4,>=2 in /Users/kyu/Projects/serverless-ml-course/venv/lib/python3.11/site-packages (from requests->hopsworks) (3.4.1)\n",
      "Requirement already satisfied: idna<4,>=2.5 in /Users/kyu/Projects/serverless-ml-course/venv/lib/python3.11/site-packages (from requests->hopsworks) (3.10)\n",
      "Requirement already satisfied: typing-extensions>=4.6.0 in /Users/kyu/Projects/serverless-ml-course/venv/lib/python3.11/site-packages (from sqlalchemy->hopsworks) (4.12.2)\n",
      "Requirement already satisfied: botocore<1.37.0,>=1.36.10 in /Users/kyu/Projects/serverless-ml-course/venv/lib/python3.11/site-packages (from boto3->hopsworks) (1.36.10)\n",
      "Requirement already satisfied: jmespath<2.0.0,>=0.7.1 in /Users/kyu/Projects/serverless-ml-course/venv/lib/python3.11/site-packages (from boto3->hopsworks) (1.0.1)\n",
      "Requirement already satisfied: s3transfer<0.12.0,>=0.11.0 in /Users/kyu/Projects/serverless-ml-course/venv/lib/python3.11/site-packages (from boto3->hopsworks) (0.11.2)\n",
      "Requirement already satisfied: orderedmultidict>=1.0.1 in /Users/kyu/Projects/serverless-ml-course/venv/lib/python3.11/site-packages (from furl->hopsworks) (1.0.1)\n",
      "Requirement already satisfied: javaobj-py3 in /Users/kyu/Projects/serverless-ml-course/venv/lib/python3.11/site-packages (from pyjks->hopsworks) (0.4.4)\n",
      "Requirement already satisfied: pyasn1>=0.3.5 in /Users/kyu/Projects/serverless-ml-course/venv/lib/python3.11/site-packages (from pyjks->hopsworks) (0.6.1)\n",
      "Requirement already satisfied: pyasn1-modules in /Users/kyu/Projects/serverless-ml-course/venv/lib/python3.11/site-packages (from pyjks->hopsworks) (0.4.1)\n",
      "Requirement already satisfied: pycryptodomex in /Users/kyu/Projects/serverless-ml-course/venv/lib/python3.11/site-packages (from pyjks->hopsworks) (3.21.0)\n",
      "Requirement already satisfied: twofish in /Users/kyu/Projects/serverless-ml-course/venv/lib/python3.11/site-packages (from pyjks->hopsworks) (0.3.0)\n",
      "Requirement already satisfied: cryptography in /Users/kyu/Projects/serverless-ml-course/venv/lib/python3.11/site-packages (from PyMySQL[rsa]->hopsworks) (44.0.0)\n",
      "Requirement already satisfied: cffi>=1.12 in /Users/kyu/Projects/serverless-ml-course/venv/lib/python3.11/site-packages (from cryptography->PyMySQL[rsa]->hopsworks) (1.17.1)\n",
      "Requirement already satisfied: pycparser in /Users/kyu/Projects/serverless-ml-course/venv/lib/python3.11/site-packages (from cffi>=1.12->cryptography->PyMySQL[rsa]->hopsworks) (2.22)\n",
      "\n",
      "\u001b[1m[\u001b[0m\u001b[34;49mnotice\u001b[0m\u001b[1;39;49m]\u001b[0m\u001b[39;49m A new release of pip is available: \u001b[0m\u001b[31;49m24.3.1\u001b[0m\u001b[39;49m -> \u001b[0m\u001b[32;49m25.0\u001b[0m\n",
      "\u001b[1m[\u001b[0m\u001b[34;49mnotice\u001b[0m\u001b[1;39;49m]\u001b[0m\u001b[39;49m To update, run: \u001b[0m\u001b[32;49mpip install --upgrade pip\u001b[0m\n",
      "Note: you may need to restart the kernel to use updated packages.\n"
     ]
    }
   ],
   "source": [
    "%pip install  hopsworks"
   ]
  },
  {
   "cell_type": "markdown",
   "metadata": {},
   "source": [
    "Set **BACKFILL=True** if you want to create features from the iris.csv file containing historical data."
   ]
  },
  {
   "cell_type": "code",
   "execution_count": 3,
   "metadata": {},
   "outputs": [],
   "source": [
    "import random\n",
    "import pandas as pd\n",
    "import hopsworks\n",
    "\n",
    "BACKFILL= False"
   ]
  },
  {
   "cell_type": "markdown",
   "metadata": {},
   "source": [
    "### Synthetic Data Functions\n",
    "\n",
    "These synthetic data functions can be used to create a DataFrame containing a single Iris Flower sample."
   ]
  },
  {
   "cell_type": "code",
   "execution_count": 4,
   "metadata": {
    "colab": {
     "base_uri": "https://localhost:8080/",
     "height": 206
    },
    "id": "nRmFM7vcbpHA",
    "outputId": "d920d168-9818-40c5-c292-4cf0afcbbcfd"
   },
   "outputs": [],
   "source": [
    "def generate_flower(name, sepal_len_max, sepal_len_min, sepal_width_max, sepal_width_min,\n",
    "                    petal_len_max, petal_len_min, petal_width_max, petal_width_min):\n",
    "    \"\"\"\n",
    "    Returns a single iris flower as a single row in a DataFrame\n",
    "    \"\"\"\n",
    "    df = pd.DataFrame({ \"sepal_length\": [random.uniform(sepal_len_max, sepal_len_min)],\n",
    "                       \"sepal_width\": [random.uniform(sepal_width_max, sepal_width_min)],\n",
    "                       \"petal_length\": [random.uniform(petal_len_max, petal_len_min)],\n",
    "                       \"petal_width\": [random.uniform(petal_width_max, petal_width_min)]\n",
    "                      })\n",
    "    df['variety'] = name\n",
    "    return df\n",
    "\n",
    "\n",
    "def get_random_iris_flower():\n",
    "    \"\"\"\n",
    "    Returns a DataFrame containing one random iris flower\n",
    "    \"\"\"\n",
    "    virginica_df = generate_flower(\"Virginica\", 8, 5.5, 3.8, 2.2, 7, 4.5, 2.5, 1.4)\n",
    "    versicolor_df = generate_flower(\"Versicolor\", 7.5, 4.5, 3.5, 2.1, 3.1, 5.5, 1.8, 1.0)\n",
    "    setosa_df =  generate_flower(\"Setosa\", 6, 4.5, 4.5, 2.3, 1.2, 2, 0.7, 0.3)\n",
    "\n",
    "    # randomly pick one of these 3 and write it to the featurestore\n",
    "    pick_random = random.uniform(0,3)\n",
    "    if pick_random >= 2:\n",
    "        iris_df = virginica_df\n",
    "    elif pick_random >= 1:\n",
    "        iris_df = versicolor_df\n",
    "    else:\n",
    "        iris_df = setosa_df\n",
    "\n",
    "    return iris_df"
   ]
  },
  {
   "cell_type": "markdown",
   "metadata": {},
   "source": [
    "## Backfill or create new synthetic input data\n",
    "\n",
    "You can run this pipeline in either *backfill* or *synthetic-data* mode."
   ]
  },
  {
   "cell_type": "code",
   "execution_count": 15,
   "metadata": {},
   "outputs": [
    {
     "data": {
      "text/html": [
       "<div>\n",
       "<style scoped>\n",
       "    .dataframe tbody tr th:only-of-type {\n",
       "        vertical-align: middle;\n",
       "    }\n",
       "\n",
       "    .dataframe tbody tr th {\n",
       "        vertical-align: top;\n",
       "    }\n",
       "\n",
       "    .dataframe thead th {\n",
       "        text-align: right;\n",
       "    }\n",
       "</style>\n",
       "<table border=\"1\" class=\"dataframe\">\n",
       "  <thead>\n",
       "    <tr style=\"text-align: right;\">\n",
       "      <th></th>\n",
       "      <th>sepal_length</th>\n",
       "      <th>sepal_width</th>\n",
       "      <th>petal_length</th>\n",
       "      <th>petal_width</th>\n",
       "      <th>variety</th>\n",
       "    </tr>\n",
       "  </thead>\n",
       "  <tbody>\n",
       "    <tr>\n",
       "      <th>0</th>\n",
       "      <td>4.806531</td>\n",
       "      <td>2.940839</td>\n",
       "      <td>3.62637</td>\n",
       "      <td>1.00197</td>\n",
       "      <td>Versicolor</td>\n",
       "    </tr>\n",
       "  </tbody>\n",
       "</table>\n",
       "</div>"
      ],
      "text/plain": [
       "   sepal_length  sepal_width  petal_length  petal_width     variety\n",
       "0      4.806531     2.940839       3.62637      1.00197  Versicolor"
      ]
     },
     "execution_count": 15,
     "metadata": {},
     "output_type": "execute_result"
    }
   ],
   "source": [
    "\n",
    "if BACKFILL == True:\n",
    "    iris_df = pd.read_csv(\"https://repo.hops.works/master/hopsworks-tutorials/data/iris.csv\")\n",
    "else:\n",
    "    iris_df = get_random_iris_flower()\n",
    "\n",
    "iris_df.head()"
   ]
  },
  {
   "cell_type": "markdown",
   "metadata": {},
   "source": [
    "## Authenticate with Hopsworks using your API Key\n",
    "\n",
    "Hopsworks will prompt you to paste in your API key and provide you with a link to find your API key if you have not stored it securely already."
   ]
  },
  {
   "cell_type": "code",
   "execution_count": 8,
   "metadata": {},
   "outputs": [
    {
     "name": "stdout",
     "output_type": "stream",
     "text": [
      "Requirement already satisfied: pyarrow in /Users/kyu/Projects/serverless-ml-course/venv/lib/python3.11/site-packages (19.0.0)\n",
      "\n",
      "\u001b[1m[\u001b[0m\u001b[34;49mnotice\u001b[0m\u001b[1;39;49m]\u001b[0m\u001b[39;49m A new release of pip is available: \u001b[0m\u001b[31;49m24.3.1\u001b[0m\u001b[39;49m -> \u001b[0m\u001b[32;49m25.0\u001b[0m\n",
      "\u001b[1m[\u001b[0m\u001b[34;49mnotice\u001b[0m\u001b[1;39;49m]\u001b[0m\u001b[39;49m To update, run: \u001b[0m\u001b[32;49mpip install --upgrade pip\u001b[0m\n",
      "Note: you may need to restart the kernel to use updated packages.\n",
      "2025-02-02 16:32:12,987 INFO: Initializing external client\n",
      "2025-02-02 16:32:12,987 INFO: Base URL: https://c.app.hopsworks.ai:443\n",
      "2025-02-02 16:32:13,923 INFO: Python Engine initialized.\n",
      "\n",
      "Logged in to project, explore it here https://c.app.hopsworks.ai:443/p/1212567\n"
     ]
    }
   ],
   "source": [
    "%pip install pyarrow\n",
    "\n",
    "project = hopsworks.login()\n",
    "fs = project.get_feature_store()"
   ]
  },
  {
   "cell_type": "markdown",
   "metadata": {},
   "source": [
    "## Create and write to a feature group - primary keys\n",
    "\n",
    "To prevent duplicate entries, Hopsworks requires that each DataFame has a *primary_key*. \n",
    "A *primary_key* is one or more columns that uniquely identify the row. Here, we assume\n",
    "that each Iris flower has a unique combination of (\"sepal_length\",\"sepal_width\",\"petal_length\",\"petal_width\")\n",
    "feature values. If you randomly generate a sample that already exists in the feature group, the insert operation will fail.\n",
    "\n",
    "The *feature group* will create its online schema using the schema of the Pandas DataFame."
   ]
  },
  {
   "cell_type": "code",
   "execution_count": 16,
   "metadata": {},
   "outputs": [
    {
     "name": "stderr",
     "output_type": "stream",
     "text": [
      "Uploading Dataframe: 100.00% |██████████| Rows 1/1 | Elapsed Time: 00:01 | Remaining Time: 00:00\n"
     ]
    },
    {
     "name": "stdout",
     "output_type": "stream",
     "text": [
      "Launching job: iris_1_offline_fg_materialization\n",
      "Job started successfully, you can follow the progress at \n",
      "https://c.app.hopsworks.ai:443/p/1212567/jobs/named/iris_1_offline_fg_materialization/executions\n"
     ]
    },
    {
     "data": {
      "text/plain": [
       "(Job('iris_1_offline_fg_materialization', 'SPARK'), None)"
      ]
     },
     "execution_count": 16,
     "metadata": {},
     "output_type": "execute_result"
    }
   ],
   "source": [
    "iris_fg = fs.get_or_create_feature_group(name=\"iris\",\n",
    "                                  version=1,\n",
    "                                  primary_key=[\"sepal_length\",\"sepal_width\",\"petal_length\",\"petal_width\"],\n",
    "                                  description=\"Iris flower dataset\"\n",
    "                                 )\n",
    "iris_fg.insert(iris_df)"
   ]
  },
  {
   "cell_type": "code",
   "execution_count": null,
   "metadata": {},
   "outputs": [],
   "source": []
  }
 ],
 "metadata": {
  "colab": {
   "collapsed_sections": [],
   "provenance": []
  },
  "kernelspec": {
   "display_name": "venv",
   "language": "python",
   "name": "python3"
  },
  "language_info": {
   "codemirror_mode": {
    "name": "ipython",
    "version": 3
   },
   "file_extension": ".py",
   "mimetype": "text/x-python",
   "name": "python",
   "nbconvert_exporter": "python",
   "pygments_lexer": "ipython3",
   "version": "3.11.11"
  }
 },
 "nbformat": 4,
 "nbformat_minor": 1
}
